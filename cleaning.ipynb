{
 "cells": [
  {
   "cell_type": "code",
   "execution_count": 4,
   "metadata": {},
   "outputs": [],
   "source": [
    "import pandas as pd \n",
    "\n",
    "df=pd.read_csv(\"scraped_whitehouse_posts (1).csv\")"
   ]
  },
  {
   "cell_type": "code",
   "execution_count": 5,
   "metadata": {},
   "outputs": [
    {
     "data": {
      "text/plain": [
       "(48, 8)"
      ]
     },
     "execution_count": 5,
     "metadata": {},
     "output_type": "execute_result"
    }
   ],
   "source": [
    "df.shape"
   ]
  },
  {
   "cell_type": "code",
   "execution_count": 6,
   "metadata": {},
   "outputs": [
    {
     "data": {
      "text/html": [
       "<div>\n",
       "<style scoped>\n",
       "    .dataframe tbody tr th:only-of-type {\n",
       "        vertical-align: middle;\n",
       "    }\n",
       "\n",
       "    .dataframe tbody tr th {\n",
       "        vertical-align: top;\n",
       "    }\n",
       "\n",
       "    .dataframe thead th {\n",
       "        text-align: right;\n",
       "    }\n",
       "</style>\n",
       "<table border=\"1\" class=\"dataframe\">\n",
       "  <thead>\n",
       "    <tr style=\"text-align: right;\">\n",
       "      <th></th>\n",
       "      <th>Name</th>\n",
       "      <th>Headline</th>\n",
       "      <th>Date</th>\n",
       "      <th>Byline</th>\n",
       "      <th>Content</th>\n",
       "      <th>Title</th>\n",
       "      <th>Category</th>\n",
       "      <th>Link</th>\n",
       "    </tr>\n",
       "  </thead>\n",
       "  <tbody>\n",
       "    <tr>\n",
       "      <th>0</th>\n",
       "      <td>Presidential Actions</td>\n",
       "      <td>Guaranteeing The States Protection Against Inv...</td>\n",
       "      <td>2025-01-20T21:30:00-05:00</td>\n",
       "      <td>NaN</td>\n",
       "      <td>BY THE PRESIDENT OF THE UNITED STATES OF AMERI...</td>\n",
       "      <td>Guaranteeing The States Protection Against Inv...</td>\n",
       "      <td>Presidential Actions</td>\n",
       "      <td>https://www.whitehouse.gov/presidential-action...</td>\n",
       "    </tr>\n",
       "    <tr>\n",
       "      <th>1</th>\n",
       "      <td>Presidential Actions</td>\n",
       "      <td>Restoring Names That Honor American Greatness</td>\n",
       "      <td>2025-01-20T21:20:22-05:00</td>\n",
       "      <td>EXECUTIVE ORDER</td>\n",
       "      <td>By the authority vested in me as President by ...</td>\n",
       "      <td>Restoring Names That Honor American Greatness</td>\n",
       "      <td>Presidential Actions</td>\n",
       "      <td>https://www.whitehouse.gov/presidential-action...</td>\n",
       "    </tr>\n",
       "    <tr>\n",
       "      <th>2</th>\n",
       "      <td>Presidential Actions</td>\n",
       "      <td>Designating Cartels And Other Organizations As...</td>\n",
       "      <td>2025-01-20T21:07:53-05:00</td>\n",
       "      <td>EXECUTIVE ORDER</td>\n",
       "      <td>DESIGNATING CARTELS AND OTHER ORGANIZATIONS AS...</td>\n",
       "      <td>Designating Cartels And Other Organizations As...</td>\n",
       "      <td>Presidential Actions</td>\n",
       "      <td>https://www.whitehouse.gov/presidential-action...</td>\n",
       "    </tr>\n",
       "    <tr>\n",
       "      <th>3</th>\n",
       "      <td>Presidential Actions</td>\n",
       "      <td>Reforming The Federal Hiring Process And Resto...</td>\n",
       "      <td>2025-01-20T20:56:36-05:00</td>\n",
       "      <td>EXECUTIVE ORDER</td>\n",
       "      <td>REFORMING THE FEDERAL HIRING PROCESS AND RESTO...</td>\n",
       "      <td>Reforming The Federal Hiring Process And Resto...</td>\n",
       "      <td>Presidential Actions</td>\n",
       "      <td>https://www.whitehouse.gov/presidential-action...</td>\n",
       "    </tr>\n",
       "    <tr>\n",
       "      <th>4</th>\n",
       "      <td>Presidential Actions</td>\n",
       "      <td>Ending Radical And Wasteful Government Dei Pro...</td>\n",
       "      <td>2025-01-20T20:54:14-05:00</td>\n",
       "      <td>EXECUTIVE ORDER</td>\n",
       "      <td>By the authority vested in me as President by ...</td>\n",
       "      <td>Ending Radical And Wasteful Government DEI Pro...</td>\n",
       "      <td>Presidential Actions</td>\n",
       "      <td>https://www.whitehouse.gov/presidential-action...</td>\n",
       "    </tr>\n",
       "  </tbody>\n",
       "</table>\n",
       "</div>"
      ],
      "text/plain": [
       "                   Name                                           Headline  \\\n",
       "0  Presidential Actions  Guaranteeing The States Protection Against Inv...   \n",
       "1  Presidential Actions      Restoring Names That Honor American Greatness   \n",
       "2  Presidential Actions  Designating Cartels And Other Organizations As...   \n",
       "3  Presidential Actions  Reforming The Federal Hiring Process And Resto...   \n",
       "4  Presidential Actions  Ending Radical And Wasteful Government Dei Pro...   \n",
       "\n",
       "                        Date           Byline  \\\n",
       "0  2025-01-20T21:30:00-05:00              NaN   \n",
       "1  2025-01-20T21:20:22-05:00  EXECUTIVE ORDER   \n",
       "2  2025-01-20T21:07:53-05:00  EXECUTIVE ORDER   \n",
       "3  2025-01-20T20:56:36-05:00  EXECUTIVE ORDER   \n",
       "4  2025-01-20T20:54:14-05:00  EXECUTIVE ORDER   \n",
       "\n",
       "                                             Content  \\\n",
       "0  BY THE PRESIDENT OF THE UNITED STATES OF AMERI...   \n",
       "1  By the authority vested in me as President by ...   \n",
       "2  DESIGNATING CARTELS AND OTHER ORGANIZATIONS AS...   \n",
       "3  REFORMING THE FEDERAL HIRING PROCESS AND RESTO...   \n",
       "4  By the authority vested in me as President by ...   \n",
       "\n",
       "                                               Title              Category  \\\n",
       "0  Guaranteeing The States Protection Against Inv...  Presidential Actions   \n",
       "1      Restoring Names That Honor American Greatness  Presidential Actions   \n",
       "2  Designating Cartels And Other Organizations As...  Presidential Actions   \n",
       "3  Reforming The Federal Hiring Process And Resto...  Presidential Actions   \n",
       "4  Ending Radical And Wasteful Government DEI Pro...  Presidential Actions   \n",
       "\n",
       "                                                Link  \n",
       "0  https://www.whitehouse.gov/presidential-action...  \n",
       "1  https://www.whitehouse.gov/presidential-action...  \n",
       "2  https://www.whitehouse.gov/presidential-action...  \n",
       "3  https://www.whitehouse.gov/presidential-action...  \n",
       "4  https://www.whitehouse.gov/presidential-action...  "
      ]
     },
     "execution_count": 6,
     "metadata": {},
     "output_type": "execute_result"
    }
   ],
   "source": [
    "df.head()"
   ]
  },
  {
   "cell_type": "code",
   "execution_count": null,
   "metadata": {},
   "outputs": [],
   "source": []
  }
 ],
 "metadata": {
  "kernelspec": {
   "display_name": "Python 3",
   "language": "python",
   "name": "python3"
  },
  "language_info": {
   "codemirror_mode": {
    "name": "ipython",
    "version": 3
   },
   "file_extension": ".py",
   "mimetype": "text/x-python",
   "name": "python",
   "nbconvert_exporter": "python",
   "pygments_lexer": "ipython3",
   "version": "3.10.13"
  }
 },
 "nbformat": 4,
 "nbformat_minor": 2
}
