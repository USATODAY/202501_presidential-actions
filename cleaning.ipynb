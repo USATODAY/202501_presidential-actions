{
 "cells": [
  {
   "cell_type": "code",
   "execution_count": 17,
   "metadata": {},
   "outputs": [],
   "source": [
    "import pandas as pd \n",
    "\n",
    "df=pd.read_csv(\"scraped_whitehouse_posts.csv\")"
   ]
  },
  {
   "cell_type": "code",
   "execution_count": 18,
   "metadata": {},
   "outputs": [
    {
     "data": {
      "text/plain": [
       "(50, 8)"
      ]
     },
     "execution_count": 18,
     "metadata": {},
     "output_type": "execute_result"
    }
   ],
   "source": [
    "df.shape"
   ]
  },
  {
   "cell_type": "code",
   "execution_count": 19,
   "metadata": {},
   "outputs": [
    {
     "data": {
      "text/html": [
       "<div>\n",
       "<style scoped>\n",
       "    .dataframe tbody tr th:only-of-type {\n",
       "        vertical-align: middle;\n",
       "    }\n",
       "\n",
       "    .dataframe tbody tr th {\n",
       "        vertical-align: top;\n",
       "    }\n",
       "\n",
       "    .dataframe thead th {\n",
       "        text-align: right;\n",
       "    }\n",
       "</style>\n",
       "<table border=\"1\" class=\"dataframe\">\n",
       "  <thead>\n",
       "    <tr style=\"text-align: right;\">\n",
       "      <th></th>\n",
       "      <th>Name</th>\n",
       "      <th>Headline</th>\n",
       "      <th>Date</th>\n",
       "      <th>Byline</th>\n",
       "      <th>Content</th>\n",
       "      <th>Title</th>\n",
       "      <th>Category</th>\n",
       "      <th>Link</th>\n",
       "    </tr>\n",
       "  </thead>\n",
       "  <tbody>\n",
       "    <tr>\n",
       "      <th>0</th>\n",
       "      <td>Presidential Actions</td>\n",
       "      <td>Fact Sheet: President Donald J. Trump Declares...</td>\n",
       "      <td>2025-01-22T14:41:52-05:00</td>\n",
       "      <td>NaN</td>\n",
       "      <td>INVOKING A NATIONAL EMERGENCY: Today, Presiden...</td>\n",
       "      <td>Fact Sheet: President Donald J. Trump Delivers...</td>\n",
       "      <td>Presidential Actions</td>\n",
       "      <td>https://www.whitehouse.gov/presidential-action...</td>\n",
       "    </tr>\n",
       "    <tr>\n",
       "      <th>1</th>\n",
       "      <td>Presidential Actions</td>\n",
       "      <td>Fact Sheet: President Donald J. Trump Delivers...</td>\n",
       "      <td>2025-01-22T14:40:05-05:00</td>\n",
       "      <td>NaN</td>\n",
       "      <td>DELIVERING EMERGENCY PRICE RELIEF: Today, Pres...</td>\n",
       "      <td>Fact Sheet: President Donald J. Trump Delivers...</td>\n",
       "      <td>Presidential Actions</td>\n",
       "      <td>https://www.whitehouse.gov/presidential-action...</td>\n",
       "    </tr>\n",
       "    <tr>\n",
       "      <th>2</th>\n",
       "      <td>Presidential Actions</td>\n",
       "      <td>Nominations Transmitted To The Senate</td>\n",
       "      <td>2025-01-22T13:34:47-05:00</td>\n",
       "      <td>NaN</td>\n",
       "      <td>For Immediate Release                         ...</td>\n",
       "      <td>Nominations Transmitted to the Senate</td>\n",
       "      <td>Presidential Actions</td>\n",
       "      <td>https://www.whitehouse.gov/presidential-action...</td>\n",
       "    </tr>\n",
       "    <tr>\n",
       "      <th>3</th>\n",
       "      <td>Presidential Actions</td>\n",
       "      <td>Ending Illegal Discrimination Andrestoring Mer...</td>\n",
       "      <td>2025-01-21T22:00:00-05:00</td>\n",
       "      <td>NaN</td>\n",
       "      <td>By the authority vested in me as President by ...</td>\n",
       "      <td>Ending Illegal Discrimination And Restoring Me...</td>\n",
       "      <td>Presidential Actions</td>\n",
       "      <td>https://www.whitehouse.gov/presidential-action...</td>\n",
       "    </tr>\n",
       "    <tr>\n",
       "      <th>4</th>\n",
       "      <td>Presidential Actions</td>\n",
       "      <td>Keeping Americans Safe In Aviation</td>\n",
       "      <td>2025-01-21T20:17:18-05:00</td>\n",
       "      <td>NaN</td>\n",
       "      <td>SUBJECT:       Keeping Americans Safe in Aviat...</td>\n",
       "      <td>Keeping Americans Safe in Aviation</td>\n",
       "      <td>Presidential Actions</td>\n",
       "      <td>https://www.whitehouse.gov/presidential-action...</td>\n",
       "    </tr>\n",
       "  </tbody>\n",
       "</table>\n",
       "</div>"
      ],
      "text/plain": [
       "                   Name                                           Headline  \\\n",
       "0  Presidential Actions  Fact Sheet: President Donald J. Trump Declares...   \n",
       "1  Presidential Actions  Fact Sheet: President Donald J. Trump Delivers...   \n",
       "2  Presidential Actions              Nominations Transmitted To The Senate   \n",
       "3  Presidential Actions  Ending Illegal Discrimination Andrestoring Mer...   \n",
       "4  Presidential Actions                 Keeping Americans Safe In Aviation   \n",
       "\n",
       "                        Date Byline  \\\n",
       "0  2025-01-22T14:41:52-05:00    NaN   \n",
       "1  2025-01-22T14:40:05-05:00    NaN   \n",
       "2  2025-01-22T13:34:47-05:00    NaN   \n",
       "3  2025-01-21T22:00:00-05:00    NaN   \n",
       "4  2025-01-21T20:17:18-05:00    NaN   \n",
       "\n",
       "                                             Content  \\\n",
       "0  INVOKING A NATIONAL EMERGENCY: Today, Presiden...   \n",
       "1  DELIVERING EMERGENCY PRICE RELIEF: Today, Pres...   \n",
       "2  For Immediate Release                         ...   \n",
       "3  By the authority vested in me as President by ...   \n",
       "4  SUBJECT:       Keeping Americans Safe in Aviat...   \n",
       "\n",
       "                                               Title              Category  \\\n",
       "0  Fact Sheet: President Donald J. Trump Delivers...  Presidential Actions   \n",
       "1  Fact Sheet: President Donald J. Trump Delivers...  Presidential Actions   \n",
       "2              Nominations Transmitted to the Senate  Presidential Actions   \n",
       "3  Ending Illegal Discrimination And Restoring Me...  Presidential Actions   \n",
       "4                 Keeping Americans Safe in Aviation  Presidential Actions   \n",
       "\n",
       "                                                Link  \n",
       "0  https://www.whitehouse.gov/presidential-action...  \n",
       "1  https://www.whitehouse.gov/presidential-action...  \n",
       "2  https://www.whitehouse.gov/presidential-action...  \n",
       "3  https://www.whitehouse.gov/presidential-action...  \n",
       "4  https://www.whitehouse.gov/presidential-action...  "
      ]
     },
     "execution_count": 19,
     "metadata": {},
     "output_type": "execute_result"
    }
   ],
   "source": [
    "df.head()"
   ]
  },
  {
   "cell_type": "code",
   "execution_count": null,
   "metadata": {},
   "outputs": [],
   "source": []
  }
 ],
 "metadata": {
  "kernelspec": {
   "display_name": "Python 3",
   "language": "python",
   "name": "python3"
  },
  "language_info": {
   "codemirror_mode": {
    "name": "ipython",
    "version": 3
   },
   "file_extension": ".py",
   "mimetype": "text/x-python",
   "name": "python",
   "nbconvert_exporter": "python",
   "pygments_lexer": "ipython3",
   "version": "3.10.13"
  }
 },
 "nbformat": 4,
 "nbformat_minor": 2
}
